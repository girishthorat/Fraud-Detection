{
  "nbformat": 4,
  "nbformat_minor": 0,
  "metadata": {
    "colab": {
      "name": "Fraud_Det_NN.ipynb",
      "provenance": [],
      "authorship_tag": "ABX9TyP70oOVzfEV3UPFMN6Gu0f1",
      "include_colab_link": true
    },
    "kernelspec": {
      "name": "python3",
      "display_name": "Python 3"
    },
    "language_info": {
      "name": "python"
    }
  },
  "cells": [
    {
      "cell_type": "markdown",
      "metadata": {
        "id": "view-in-github",
        "colab_type": "text"
      },
      "source": [
        "<a href=\"https://colab.research.google.com/github/girishthorat/Fraud-Detection/blob/main/Fraud_Det_NN.ipynb\" target=\"_parent\"><img src=\"https://colab.research.google.com/assets/colab-badge.svg\" alt=\"Open In Colab\"/></a>"
      ]
    },
    {
      "cell_type": "code",
      "metadata": {
        "id": "5webHkIndnFw"
      },
      "source": [
        "import numpy as np\n",
        "import pandas as pd\n",
        "import matplotlib.pyplot as plt\n",
        "import tensorflow as tf\n",
        "from tensorflow import keras\n",
        "from numpy import argmax\n"
      ],
      "execution_count": null,
      "outputs": []
    },
    {
      "cell_type": "code",
      "metadata": {
        "id": "JrsA7UsjeHS6"
      },
      "source": [
        "from sklearn.metrics import confusion_matrix # evaluation metric\n",
        "from sklearn.metrics import accuracy_score # evaluation metric\n",
        "from sklearn.metrics import f1_score # evaluation metric\n",
        "from sklearn.metrics import classification_report\n",
        "from sklearn.metrics import precision_score, recall_score, roc_auc_score, roc_curve\n",
        "from sklearn.preprocessing import StandardScaler\n",
        "from sklearn.model_selection import train_test_split # data split\n",
        "from matplotlib import pyplot\n"
      ],
      "execution_count": null,
      "outputs": []
    },
    {
      "cell_type": "code",
      "metadata": {
        "id": "bbvsxkhCkS_0"
      },
      "source": [
        "from keras.models import Sequential \n",
        "from keras.layers import Dense,Activation,Dropout \n",
        "from keras.layers.normalization import BatchNormalization \n",
        "from keras.utils import np_utils"
      ],
      "execution_count": null,
      "outputs": []
    },
    {
      "cell_type": "code",
      "metadata": {
        "colab": {
          "base_uri": "https://localhost:8080/"
        },
        "id": "2IlOJ_ymiZ1m",
        "outputId": "021cb788-e6f0-480f-9e88-d8ace3a09e51"
      },
      "source": [
        "from google.colab import drive\n",
        "drive.mount('/content/drive')"
      ],
      "execution_count": null,
      "outputs": [
        {
          "output_type": "stream",
          "text": [
            "Mounted at /content/drive\n"
          ],
          "name": "stdout"
        }
      ]
    },
    {
      "cell_type": "code",
      "metadata": {
        "id": "_ag5jzu2ibA1"
      },
      "source": [
        "Data = pd.read_pickle('/content/drive/MyDrive/Pattern_Recognition /Data.pickle')\n"
      ],
      "execution_count": null,
      "outputs": []
    },
    {
      "cell_type": "code",
      "metadata": {
        "id": "F8XPUlEGibE0"
      },
      "source": [
        "Data['creditLimit'] = StandardScaler().fit_transform(np.array(Data['creditLimit']).reshape(-1, 1))\n",
        "Data['availableMoney'] = StandardScaler().fit_transform(np.array(Data['availableMoney']).reshape(-1, 1))\n",
        "Data['transactionAmount'] = StandardScaler().fit_transform(np.array(Data['transactionAmount']).reshape(-1, 1))\n",
        "Data['currentBalance'] = StandardScaler().fit_transform(np.array(Data['currentBalance']).reshape(-1, 1))\n",
        "Data['Difference_open'] = StandardScaler().fit_transform(np.array(Data['Difference_open']).reshape(-1, 1))\n",
        "Data['Difference_exp'] = StandardScaler().fit_transform(np.array(Data['Difference_exp']).reshape(-1, 1))\n",
        "Data['Difference_address'] = StandardScaler().fit_transform(np.array(Data['Difference_address']).reshape(-1, 1))"
      ],
      "execution_count": null,
      "outputs": []
    },
    {
      "cell_type": "code",
      "metadata": {
        "colab": {
          "base_uri": "https://localhost:8080/",
          "height": 384
        },
        "id": "j_LYg13YibIe",
        "outputId": "ae7d2af5-2925-4675-ab0e-4ca1c8b9822e"
      },
      "source": [
        "Data.describe()"
      ],
      "execution_count": null,
      "outputs": [
        {
          "output_type": "execute_result",
          "data": {
            "text/html": [
              "<div>\n",
              "<style scoped>\n",
              "    .dataframe tbody tr th:only-of-type {\n",
              "        vertical-align: middle;\n",
              "    }\n",
              "\n",
              "    .dataframe tbody tr th {\n",
              "        vertical-align: top;\n",
              "    }\n",
              "\n",
              "    .dataframe thead th {\n",
              "        text-align: right;\n",
              "    }\n",
              "</style>\n",
              "<table border=\"1\" class=\"dataframe\">\n",
              "  <thead>\n",
              "    <tr style=\"text-align: right;\">\n",
              "      <th></th>\n",
              "      <th>creditLimit</th>\n",
              "      <th>availableMoney</th>\n",
              "      <th>transactionAmount</th>\n",
              "      <th>currentBalance</th>\n",
              "      <th>cardPresent</th>\n",
              "      <th>expirationDateKeyInMatch</th>\n",
              "      <th>isCVVcorrect</th>\n",
              "      <th>isCountrySame</th>\n",
              "      <th>posEntryMode_05</th>\n",
              "      <th>posEntryMode_09</th>\n",
              "      <th>posEntryMode_80</th>\n",
              "      <th>posEntryMode_90</th>\n",
              "      <th>posConditionCode_08</th>\n",
              "      <th>posConditionCode_99</th>\n",
              "      <th>merchantCategoryCode_auto</th>\n",
              "      <th>merchantCategoryCode_cable/phone</th>\n",
              "      <th>merchantCategoryCode_entertainment</th>\n",
              "      <th>merchantCategoryCode_fastfood</th>\n",
              "      <th>merchantCategoryCode_food</th>\n",
              "      <th>merchantCategoryCode_food_delivery</th>\n",
              "      <th>merchantCategoryCode_fuel</th>\n",
              "      <th>merchantCategoryCode_furniture</th>\n",
              "      <th>merchantCategoryCode_gym</th>\n",
              "      <th>merchantCategoryCode_health</th>\n",
              "      <th>merchantCategoryCode_hotels</th>\n",
              "      <th>merchantCategoryCode_mobileapps</th>\n",
              "      <th>merchantCategoryCode_online_gifts</th>\n",
              "      <th>merchantCategoryCode_online_retail</th>\n",
              "      <th>merchantCategoryCode_online_subscriptions</th>\n",
              "      <th>merchantCategoryCode_personal care</th>\n",
              "      <th>merchantCategoryCode_rideshare</th>\n",
              "      <th>merchantCategoryCode_subscriptions</th>\n",
              "      <th>transactionType_PURCHASE</th>\n",
              "      <th>transactionType_REVERSAL</th>\n",
              "      <th>Difference_open</th>\n",
              "      <th>Difference_exp</th>\n",
              "      <th>Difference_address</th>\n",
              "      <th>isFraud</th>\n",
              "    </tr>\n",
              "  </thead>\n",
              "  <tbody>\n",
              "    <tr>\n",
              "      <th>count</th>\n",
              "      <td>7.766680e+05</td>\n",
              "      <td>7.766680e+05</td>\n",
              "      <td>7.766680e+05</td>\n",
              "      <td>7.766680e+05</td>\n",
              "      <td>776668.000000</td>\n",
              "      <td>776668.000000</td>\n",
              "      <td>776668.000000</td>\n",
              "      <td>776668.000000</td>\n",
              "      <td>776668.000000</td>\n",
              "      <td>776668.000000</td>\n",
              "      <td>776668.000000</td>\n",
              "      <td>776668.000000</td>\n",
              "      <td>776668.000000</td>\n",
              "      <td>776668.000000</td>\n",
              "      <td>776668.000000</td>\n",
              "      <td>776668.000000</td>\n",
              "      <td>776668.000000</td>\n",
              "      <td>776668.000000</td>\n",
              "      <td>776668.000000</td>\n",
              "      <td>776668.000000</td>\n",
              "      <td>776668.000000</td>\n",
              "      <td>776668.00000</td>\n",
              "      <td>776668.000000</td>\n",
              "      <td>776668.000000</td>\n",
              "      <td>776668.000000</td>\n",
              "      <td>776668.000000</td>\n",
              "      <td>776668.000000</td>\n",
              "      <td>776668.000000</td>\n",
              "      <td>776668.000000</td>\n",
              "      <td>776668.000000</td>\n",
              "      <td>776668.000000</td>\n",
              "      <td>776668.000000</td>\n",
              "      <td>776668.000000</td>\n",
              "      <td>776668.000000</td>\n",
              "      <td>7.766680e+05</td>\n",
              "      <td>7.766680e+05</td>\n",
              "      <td>7.766680e+05</td>\n",
              "      <td>776668.000000</td>\n",
              "    </tr>\n",
              "    <tr>\n",
              "      <th>mean</th>\n",
              "      <td>7.045636e-14</td>\n",
              "      <td>4.170789e-15</td>\n",
              "      <td>4.509692e-16</td>\n",
              "      <td>1.910979e-14</td>\n",
              "      <td>0.448723</td>\n",
              "      <td>0.001321</td>\n",
              "      <td>0.991077</td>\n",
              "      <td>0.999914</td>\n",
              "      <td>0.402630</td>\n",
              "      <td>0.302286</td>\n",
              "      <td>0.019557</td>\n",
              "      <td>0.025026</td>\n",
              "      <td>0.190523</td>\n",
              "      <td>0.009548</td>\n",
              "      <td>0.027483</td>\n",
              "      <td>0.001738</td>\n",
              "      <td>0.101908</td>\n",
              "      <td>0.142641</td>\n",
              "      <td>0.095899</td>\n",
              "      <td>0.007725</td>\n",
              "      <td>0.030426</td>\n",
              "      <td>0.00946</td>\n",
              "      <td>0.002811</td>\n",
              "      <td>0.024275</td>\n",
              "      <td>0.043351</td>\n",
              "      <td>0.019039</td>\n",
              "      <td>0.084237</td>\n",
              "      <td>0.257098</td>\n",
              "      <td>0.014070</td>\n",
              "      <td>0.024111</td>\n",
              "      <td>0.065034</td>\n",
              "      <td>0.029137</td>\n",
              "      <td>0.948457</td>\n",
              "      <td>0.025831</td>\n",
              "      <td>-6.669476e-15</td>\n",
              "      <td>5.942918e-17</td>\n",
              "      <td>-5.827390e-15</td>\n",
              "      <td>0.015407</td>\n",
              "    </tr>\n",
              "    <tr>\n",
              "      <th>std</th>\n",
              "      <td>1.000001e+00</td>\n",
              "      <td>1.000001e+00</td>\n",
              "      <td>1.000001e+00</td>\n",
              "      <td>1.000001e+00</td>\n",
              "      <td>0.497364</td>\n",
              "      <td>0.036322</td>\n",
              "      <td>0.094038</td>\n",
              "      <td>0.009288</td>\n",
              "      <td>0.490428</td>\n",
              "      <td>0.459249</td>\n",
              "      <td>0.138471</td>\n",
              "      <td>0.156205</td>\n",
              "      <td>0.392714</td>\n",
              "      <td>0.097249</td>\n",
              "      <td>0.163486</td>\n",
              "      <td>0.041655</td>\n",
              "      <td>0.302528</td>\n",
              "      <td>0.349707</td>\n",
              "      <td>0.294453</td>\n",
              "      <td>0.087554</td>\n",
              "      <td>0.171757</td>\n",
              "      <td>0.09680</td>\n",
              "      <td>0.052942</td>\n",
              "      <td>0.153903</td>\n",
              "      <td>0.203645</td>\n",
              "      <td>0.136662</td>\n",
              "      <td>0.277743</td>\n",
              "      <td>0.437034</td>\n",
              "      <td>0.117781</td>\n",
              "      <td>0.153393</td>\n",
              "      <td>0.246586</td>\n",
              "      <td>0.168191</td>\n",
              "      <td>0.221103</td>\n",
              "      <td>0.158631</td>\n",
              "      <td>1.000001e+00</td>\n",
              "      <td>1.000001e+00</td>\n",
              "      <td>1.000001e+00</td>\n",
              "      <td>0.123164</td>\n",
              "    </tr>\n",
              "    <tr>\n",
              "      <th>min</th>\n",
              "      <td>-9.032733e-01</td>\n",
              "      <td>-8.173843e-01</td>\n",
              "      <td>-9.274101e-01</td>\n",
              "      <td>-6.982235e-01</td>\n",
              "      <td>0.000000</td>\n",
              "      <td>0.000000</td>\n",
              "      <td>0.000000</td>\n",
              "      <td>0.000000</td>\n",
              "      <td>0.000000</td>\n",
              "      <td>0.000000</td>\n",
              "      <td>0.000000</td>\n",
              "      <td>0.000000</td>\n",
              "      <td>0.000000</td>\n",
              "      <td>0.000000</td>\n",
              "      <td>0.000000</td>\n",
              "      <td>0.000000</td>\n",
              "      <td>0.000000</td>\n",
              "      <td>0.000000</td>\n",
              "      <td>0.000000</td>\n",
              "      <td>0.000000</td>\n",
              "      <td>0.000000</td>\n",
              "      <td>0.00000</td>\n",
              "      <td>0.000000</td>\n",
              "      <td>0.000000</td>\n",
              "      <td>0.000000</td>\n",
              "      <td>0.000000</td>\n",
              "      <td>0.000000</td>\n",
              "      <td>0.000000</td>\n",
              "      <td>0.000000</td>\n",
              "      <td>0.000000</td>\n",
              "      <td>0.000000</td>\n",
              "      <td>0.000000</td>\n",
              "      <td>0.000000</td>\n",
              "      <td>0.000000</td>\n",
              "      <td>-1.265281e+00</td>\n",
              "      <td>-1.858607e+00</td>\n",
              "      <td>-6.754237e-01</td>\n",
              "      <td>0.000000</td>\n",
              "    </tr>\n",
              "    <tr>\n",
              "      <th>25%</th>\n",
              "      <td>-4.948901e-01</td>\n",
              "      <td>-5.826284e-01</td>\n",
              "      <td>-6.995790e-01</td>\n",
              "      <td>-5.913691e-01</td>\n",
              "      <td>0.000000</td>\n",
              "      <td>0.000000</td>\n",
              "      <td>1.000000</td>\n",
              "      <td>1.000000</td>\n",
              "      <td>0.000000</td>\n",
              "      <td>0.000000</td>\n",
              "      <td>0.000000</td>\n",
              "      <td>0.000000</td>\n",
              "      <td>0.000000</td>\n",
              "      <td>0.000000</td>\n",
              "      <td>0.000000</td>\n",
              "      <td>0.000000</td>\n",
              "      <td>0.000000</td>\n",
              "      <td>0.000000</td>\n",
              "      <td>0.000000</td>\n",
              "      <td>0.000000</td>\n",
              "      <td>0.000000</td>\n",
              "      <td>0.00000</td>\n",
              "      <td>0.000000</td>\n",
              "      <td>0.000000</td>\n",
              "      <td>0.000000</td>\n",
              "      <td>0.000000</td>\n",
              "      <td>0.000000</td>\n",
              "      <td>0.000000</td>\n",
              "      <td>0.000000</td>\n",
              "      <td>0.000000</td>\n",
              "      <td>0.000000</td>\n",
              "      <td>0.000000</td>\n",
              "      <td>1.000000</td>\n",
              "      <td>0.000000</td>\n",
              "      <td>-6.503185e-01</td>\n",
              "      <td>-8.635414e-01</td>\n",
              "      <td>-6.332574e-01</td>\n",
              "      <td>0.000000</td>\n",
              "    </tr>\n",
              "    <tr>\n",
              "      <th>50%</th>\n",
              "      <td>-2.799516e-01</td>\n",
              "      <td>-3.452114e-01</td>\n",
              "      <td>-3.323410e-01</td>\n",
              "      <td>-3.185391e-01</td>\n",
              "      <td>0.000000</td>\n",
              "      <td>0.000000</td>\n",
              "      <td>1.000000</td>\n",
              "      <td>1.000000</td>\n",
              "      <td>0.000000</td>\n",
              "      <td>0.000000</td>\n",
              "      <td>0.000000</td>\n",
              "      <td>0.000000</td>\n",
              "      <td>0.000000</td>\n",
              "      <td>0.000000</td>\n",
              "      <td>0.000000</td>\n",
              "      <td>0.000000</td>\n",
              "      <td>0.000000</td>\n",
              "      <td>0.000000</td>\n",
              "      <td>0.000000</td>\n",
              "      <td>0.000000</td>\n",
              "      <td>0.000000</td>\n",
              "      <td>0.00000</td>\n",
              "      <td>0.000000</td>\n",
              "      <td>0.000000</td>\n",
              "      <td>0.000000</td>\n",
              "      <td>0.000000</td>\n",
              "      <td>0.000000</td>\n",
              "      <td>0.000000</td>\n",
              "      <td>0.000000</td>\n",
              "      <td>0.000000</td>\n",
              "      <td>0.000000</td>\n",
              "      <td>0.000000</td>\n",
              "      <td>1.000000</td>\n",
              "      <td>0.000000</td>\n",
              "      <td>-2.919486e-01</td>\n",
              "      <td>-2.626290e-03</td>\n",
              "      <td>-4.344731e-01</td>\n",
              "      <td>0.000000</td>\n",
              "    </tr>\n",
              "    <tr>\n",
              "      <th>75%</th>\n",
              "      <td>3.648639e-01</td>\n",
              "      <td>1.411382e-01</td>\n",
              "      <td>3.691622e-01</td>\n",
              "      <td>1.208752e-01</td>\n",
              "      <td>1.000000</td>\n",
              "      <td>0.000000</td>\n",
              "      <td>1.000000</td>\n",
              "      <td>1.000000</td>\n",
              "      <td>1.000000</td>\n",
              "      <td>1.000000</td>\n",
              "      <td>0.000000</td>\n",
              "      <td>0.000000</td>\n",
              "      <td>0.000000</td>\n",
              "      <td>0.000000</td>\n",
              "      <td>0.000000</td>\n",
              "      <td>0.000000</td>\n",
              "      <td>0.000000</td>\n",
              "      <td>0.000000</td>\n",
              "      <td>0.000000</td>\n",
              "      <td>0.000000</td>\n",
              "      <td>0.000000</td>\n",
              "      <td>0.00000</td>\n",
              "      <td>0.000000</td>\n",
              "      <td>0.000000</td>\n",
              "      <td>0.000000</td>\n",
              "      <td>0.000000</td>\n",
              "      <td>0.000000</td>\n",
              "      <td>1.000000</td>\n",
              "      <td>0.000000</td>\n",
              "      <td>0.000000</td>\n",
              "      <td>0.000000</td>\n",
              "      <td>0.000000</td>\n",
              "      <td>1.000000</td>\n",
              "      <td>0.000000</td>\n",
              "      <td>3.230144e-01</td>\n",
              "      <td>8.645123e-01</td>\n",
              "      <td>2.462124e-01</td>\n",
              "      <td>0.000000</td>\n",
              "    </tr>\n",
              "    <tr>\n",
              "      <th>max</th>\n",
              "      <td>3.374003e+00</td>\n",
              "      <td>4.930578e+00</td>\n",
              "      <td>1.269195e+01</td>\n",
              "      <td>6.657671e+00</td>\n",
              "      <td>1.000000</td>\n",
              "      <td>1.000000</td>\n",
              "      <td>1.000000</td>\n",
              "      <td>1.000000</td>\n",
              "      <td>1.000000</td>\n",
              "      <td>1.000000</td>\n",
              "      <td>1.000000</td>\n",
              "      <td>1.000000</td>\n",
              "      <td>1.000000</td>\n",
              "      <td>1.000000</td>\n",
              "      <td>1.000000</td>\n",
              "      <td>1.000000</td>\n",
              "      <td>1.000000</td>\n",
              "      <td>1.000000</td>\n",
              "      <td>1.000000</td>\n",
              "      <td>1.000000</td>\n",
              "      <td>1.000000</td>\n",
              "      <td>1.00000</td>\n",
              "      <td>1.000000</td>\n",
              "      <td>1.000000</td>\n",
              "      <td>1.000000</td>\n",
              "      <td>1.000000</td>\n",
              "      <td>1.000000</td>\n",
              "      <td>1.000000</td>\n",
              "      <td>1.000000</td>\n",
              "      <td>1.000000</td>\n",
              "      <td>1.000000</td>\n",
              "      <td>1.000000</td>\n",
              "      <td>1.000000</td>\n",
              "      <td>1.000000</td>\n",
              "      <td>1.305375e+01</td>\n",
              "      <td>1.845057e+00</td>\n",
              "      <td>1.436893e+01</td>\n",
              "      <td>1.000000</td>\n",
              "    </tr>\n",
              "  </tbody>\n",
              "</table>\n",
              "</div>"
            ],
            "text/plain": [
              "        creditLimit  availableMoney  ...  Difference_address        isFraud\n",
              "count  7.766680e+05    7.766680e+05  ...        7.766680e+05  776668.000000\n",
              "mean   7.045636e-14    4.170789e-15  ...       -5.827390e-15       0.015407\n",
              "std    1.000001e+00    1.000001e+00  ...        1.000001e+00       0.123164\n",
              "min   -9.032733e-01   -8.173843e-01  ...       -6.754237e-01       0.000000\n",
              "25%   -4.948901e-01   -5.826284e-01  ...       -6.332574e-01       0.000000\n",
              "50%   -2.799516e-01   -3.452114e-01  ...       -4.344731e-01       0.000000\n",
              "75%    3.648639e-01    1.411382e-01  ...        2.462124e-01       0.000000\n",
              "max    3.374003e+00    4.930578e+00  ...        1.436893e+01       1.000000\n",
              "\n",
              "[8 rows x 38 columns]"
            ]
          },
          "metadata": {
            "tags": []
          },
          "execution_count": 8
        }
      ]
    },
    {
      "cell_type": "code",
      "metadata": {
        "id": "n_Bg2IhgibL6"
      },
      "source": [
        "X= Data.drop(['isFraud'], axis=1)\n",
        "y= Data['isFraud']"
      ],
      "execution_count": null,
      "outputs": []
    },
    {
      "cell_type": "code",
      "metadata": {
        "id": "N3nsXNt5ibPh"
      },
      "source": [
        "X_train, X_test, y_train, y_test = train_test_split(X, y, test_size = 0.2)"
      ],
      "execution_count": null,
      "outputs": []
    },
    {
      "cell_type": "code",
      "metadata": {
        "colab": {
          "base_uri": "https://localhost:8080/"
        },
        "id": "TOTFJSO6ibVB",
        "outputId": "49497447-b4ca-4ea6-bf89-9d1cb37e21a5"
      },
      "source": [
        "print(\"Before OverSampling, counts of label '1': {}\".format(sum(y_train == 1)))\n",
        "print(\"Before OverSampling, counts of label '0': {} \\n\".format(sum(y_train == 0)))\n",
        "  \n",
        "# import SMOTE module from imblearn library\n",
        "# pip install imblearn (if you don't have imblearn in your system)\n",
        "from imblearn.over_sampling import SMOTE\n",
        "sm = SMOTE(random_state = 2)\n",
        "X_train_res, y_train_res = sm.fit_resample(X_train, y_train)\n",
        "  \n",
        "print('After OverSampling, the shape of train_X: {}'.format(X_train_res.shape))\n",
        "print('After OverSampling, the shape of train_y: {} \\n'.format(y_train_res.shape))\n",
        "  \n",
        "print(\"After OverSampling, counts of label '1': {}\".format(sum(y_train_res == 1)))\n",
        "print(\"After OverSampling, counts of label '0': {}\".format(sum(y_train_res == 0)))"
      ],
      "execution_count": null,
      "outputs": [
        {
          "output_type": "stream",
          "text": [
            "Before OverSampling, counts of label '1': 9541\n",
            "Before OverSampling, counts of label '0': 611793 \n",
            "\n"
          ],
          "name": "stdout"
        },
        {
          "output_type": "stream",
          "text": [
            "/usr/local/lib/python3.7/dist-packages/sklearn/externals/six.py:31: FutureWarning: The module is deprecated in version 0.21 and will be removed in version 0.23 since we've dropped support for Python 2.7. Please rely on the official version of six (https://pypi.org/project/six/).\n",
            "  \"(https://pypi.org/project/six/).\", FutureWarning)\n",
            "/usr/local/lib/python3.7/dist-packages/sklearn/utils/deprecation.py:144: FutureWarning: The sklearn.neighbors.base module is  deprecated in version 0.22 and will be removed in version 0.24. The corresponding classes / functions should instead be imported from sklearn.neighbors. Anything that cannot be imported from sklearn.neighbors is now part of the private API.\n",
            "  warnings.warn(message, FutureWarning)\n",
            "/usr/local/lib/python3.7/dist-packages/sklearn/utils/deprecation.py:87: FutureWarning: Function safe_indexing is deprecated; safe_indexing is deprecated in version 0.22 and will be removed in version 0.24.\n",
            "  warnings.warn(msg, category=FutureWarning)\n"
          ],
          "name": "stderr"
        },
        {
          "output_type": "stream",
          "text": [
            "After OverSampling, the shape of train_X: (1223586, 37)\n",
            "After OverSampling, the shape of train_y: (1223586,) \n",
            "\n",
            "After OverSampling, counts of label '1': 611793\n",
            "After OverSampling, counts of label '0': 611793\n"
          ],
          "name": "stdout"
        }
      ]
    },
    {
      "cell_type": "code",
      "metadata": {
        "colab": {
          "base_uri": "https://localhost:8080/"
        },
        "id": "5LbURwZxibYx",
        "outputId": "4dfe90a1-53df-4c8d-ec8d-43ef1eb98373"
      },
      "source": [
        "model=Sequential()\n",
        "model.add(Dense(100,input_dim=37,activation='relu'))\n",
        "model.add(Dense(1,activation='sigmoid'))\n",
        "model.compile(loss='binary_crossentropy',optimizer='adam',metrics=['accuracy'])\n",
        "model.summary()\n"
      ],
      "execution_count": null,
      "outputs": [
        {
          "output_type": "stream",
          "text": [
            "Model: \"sequential\"\n",
            "_________________________________________________________________\n",
            "Layer (type)                 Output Shape              Param #   \n",
            "=================================================================\n",
            "dense (Dense)                (None, 100)               3800      \n",
            "_________________________________________________________________\n",
            "dense_1 (Dense)              (None, 1)                 101       \n",
            "=================================================================\n",
            "Total params: 3,901\n",
            "Trainable params: 3,901\n",
            "Non-trainable params: 0\n",
            "_________________________________________________________________\n"
          ],
          "name": "stdout"
        }
      ]
    },
    {
      "cell_type": "code",
      "metadata": {
        "colab": {
          "base_uri": "https://localhost:8080/"
        },
        "id": "oLerbjLWibcK",
        "outputId": "3fb15fb0-2d36-42d3-c872-4f0db1736733"
      },
      "source": [
        "model.fit(X_train_res,y_train_res , validation_data=( X_test, y_test),batch_size=32,epochs=50,verbose=1)\n",
        "prediction=model.predict(X_test)"
      ],
      "execution_count": null,
      "outputs": [
        {
          "output_type": "stream",
          "text": [
            "Epoch 1/50\n",
            "38238/38238 [==============================] - 58s 2ms/step - loss: 0.5341 - accuracy: 0.7274 - val_loss: 0.4526 - val_accuracy: 0.7792\n",
            "Epoch 2/50\n",
            "38238/38238 [==============================] - 57s 1ms/step - loss: 0.4537 - accuracy: 0.7815 - val_loss: 0.4211 - val_accuracy: 0.7940\n",
            "Epoch 3/50\n",
            "38238/38238 [==============================] - 57s 1ms/step - loss: 0.4227 - accuracy: 0.7991 - val_loss: 0.4347 - val_accuracy: 0.7795\n",
            "Epoch 4/50\n",
            "38238/38238 [==============================] - 57s 1ms/step - loss: 0.4098 - accuracy: 0.8057 - val_loss: 0.4660 - val_accuracy: 0.7644\n",
            "Epoch 5/50\n",
            "38238/38238 [==============================] - 57s 1ms/step - loss: 0.4021 - accuracy: 0.8097 - val_loss: 0.4606 - val_accuracy: 0.7696\n",
            "Epoch 6/50\n",
            "38238/38238 [==============================] - 57s 1ms/step - loss: 0.3954 - accuracy: 0.8137 - val_loss: 0.3646 - val_accuracy: 0.8188\n",
            "Epoch 7/50\n",
            "38238/38238 [==============================] - 57s 1ms/step - loss: 0.3913 - accuracy: 0.8158 - val_loss: 0.3876 - val_accuracy: 0.8013\n",
            "Epoch 8/50\n",
            "38238/38238 [==============================] - 57s 1ms/step - loss: 0.3885 - accuracy: 0.8172 - val_loss: 0.4025 - val_accuracy: 0.7967\n",
            "Epoch 9/50\n",
            "38238/38238 [==============================] - 57s 1ms/step - loss: 0.3856 - accuracy: 0.8185 - val_loss: 0.4155 - val_accuracy: 0.7913\n",
            "Epoch 10/50\n",
            "38238/38238 [==============================] - 57s 1ms/step - loss: 0.3831 - accuracy: 0.8203 - val_loss: 0.3801 - val_accuracy: 0.8094\n",
            "Epoch 11/50\n",
            "38238/38238 [==============================] - 57s 1ms/step - loss: 0.3812 - accuracy: 0.8210 - val_loss: 0.4052 - val_accuracy: 0.7941\n",
            "Epoch 12/50\n",
            "38238/38238 [==============================] - 56s 1ms/step - loss: 0.3797 - accuracy: 0.8218 - val_loss: 0.5571 - val_accuracy: 0.7089\n",
            "Epoch 13/50\n",
            "38238/38238 [==============================] - 56s 1ms/step - loss: 0.3777 - accuracy: 0.8231 - val_loss: 0.3843 - val_accuracy: 0.8089\n",
            "Epoch 14/50\n",
            "38238/38238 [==============================] - 56s 1ms/step - loss: 0.3764 - accuracy: 0.8239 - val_loss: 0.4212 - val_accuracy: 0.7934\n",
            "Epoch 15/50\n",
            "38238/38238 [==============================] - 56s 1ms/step - loss: 0.3746 - accuracy: 0.8247 - val_loss: 0.4877 - val_accuracy: 0.7470\n",
            "Epoch 16/50\n",
            "38238/38238 [==============================] - 56s 1ms/step - loss: 0.3742 - accuracy: 0.8253 - val_loss: 0.4145 - val_accuracy: 0.7900\n",
            "Epoch 17/50\n",
            "38238/38238 [==============================] - 56s 1ms/step - loss: 0.3726 - accuracy: 0.8262 - val_loss: 0.4971 - val_accuracy: 0.7514\n",
            "Epoch 18/50\n",
            "38238/38238 [==============================] - 56s 1ms/step - loss: 0.3722 - accuracy: 0.8260 - val_loss: 0.3540 - val_accuracy: 0.8242\n",
            "Epoch 19/50\n",
            "38238/38238 [==============================] - 56s 1ms/step - loss: 0.3718 - accuracy: 0.8264 - val_loss: 0.4287 - val_accuracy: 0.7814\n",
            "Epoch 20/50\n",
            "38238/38238 [==============================] - 56s 1ms/step - loss: 0.3704 - accuracy: 0.8274 - val_loss: 0.4063 - val_accuracy: 0.7956\n",
            "Epoch 21/50\n",
            "38238/38238 [==============================] - 56s 1ms/step - loss: 0.3705 - accuracy: 0.8271 - val_loss: 0.4804 - val_accuracy: 0.7536\n",
            "Epoch 22/50\n",
            "38238/38238 [==============================] - 56s 1ms/step - loss: 0.3697 - accuracy: 0.8278 - val_loss: 0.3183 - val_accuracy: 0.8474\n",
            "Epoch 23/50\n",
            "38238/38238 [==============================] - 56s 1ms/step - loss: 0.3685 - accuracy: 0.8281 - val_loss: 0.2844 - val_accuracy: 0.8682\n",
            "Epoch 24/50\n",
            "38238/38238 [==============================] - 56s 1ms/step - loss: 0.3686 - accuracy: 0.8280 - val_loss: 0.3752 - val_accuracy: 0.8119\n",
            "Epoch 25/50\n",
            "38238/38238 [==============================] - 57s 1ms/step - loss: 0.3677 - accuracy: 0.8287 - val_loss: 0.4181 - val_accuracy: 0.7868\n",
            "Epoch 26/50\n",
            "38238/38238 [==============================] - 57s 1ms/step - loss: 0.3668 - accuracy: 0.8286 - val_loss: 0.4605 - val_accuracy: 0.7658\n",
            "Epoch 27/50\n",
            "38238/38238 [==============================] - 57s 1ms/step - loss: 0.3675 - accuracy: 0.8292 - val_loss: 0.2908 - val_accuracy: 0.8642\n",
            "Epoch 28/50\n",
            "38238/38238 [==============================] - 57s 1ms/step - loss: 0.3671 - accuracy: 0.8287 - val_loss: 0.4121 - val_accuracy: 0.7982\n",
            "Epoch 29/50\n",
            "38238/38238 [==============================] - 57s 1ms/step - loss: 0.3664 - accuracy: 0.8292 - val_loss: 0.3860 - val_accuracy: 0.8076\n",
            "Epoch 30/50\n",
            "38238/38238 [==============================] - 56s 1ms/step - loss: 0.3655 - accuracy: 0.8304 - val_loss: 0.4171 - val_accuracy: 0.7883\n",
            "Epoch 31/50\n",
            "38238/38238 [==============================] - 57s 1ms/step - loss: 0.3648 - accuracy: 0.8304 - val_loss: 0.4055 - val_accuracy: 0.7923\n",
            "Epoch 32/50\n",
            "38238/38238 [==============================] - 57s 1ms/step - loss: 0.3640 - accuracy: 0.8309 - val_loss: 0.4262 - val_accuracy: 0.7861\n",
            "Epoch 33/50\n",
            "38238/38238 [==============================] - 56s 1ms/step - loss: 0.3645 - accuracy: 0.8308 - val_loss: 0.4663 - val_accuracy: 0.7596\n",
            "Epoch 34/50\n",
            "38238/38238 [==============================] - 57s 1ms/step - loss: 0.3642 - accuracy: 0.8304 - val_loss: 0.4248 - val_accuracy: 0.7912\n",
            "Epoch 35/50\n",
            "38238/38238 [==============================] - 57s 1ms/step - loss: 0.3641 - accuracy: 0.8307 - val_loss: 0.3479 - val_accuracy: 0.8312\n",
            "Epoch 36/50\n",
            "38238/38238 [==============================] - 57s 2ms/step - loss: 0.3630 - accuracy: 0.8316 - val_loss: 0.3256 - val_accuracy: 0.8453\n",
            "Epoch 37/50\n",
            "38238/38238 [==============================] - 57s 1ms/step - loss: 0.3634 - accuracy: 0.8312 - val_loss: 0.4500 - val_accuracy: 0.7730\n",
            "Epoch 38/50\n",
            "38238/38238 [==============================] - 57s 1ms/step - loss: 0.3628 - accuracy: 0.8315 - val_loss: 0.3752 - val_accuracy: 0.8193\n",
            "Epoch 39/50\n",
            "38238/38238 [==============================] - 57s 1ms/step - loss: 0.3620 - accuracy: 0.8315 - val_loss: 0.4573 - val_accuracy: 0.7754\n",
            "Epoch 40/50\n",
            "38238/38238 [==============================] - 57s 1ms/step - loss: 0.3616 - accuracy: 0.8320 - val_loss: 0.3282 - val_accuracy: 0.8432\n",
            "Epoch 41/50\n",
            "38238/38238 [==============================] - 57s 1ms/step - loss: 0.3621 - accuracy: 0.8315 - val_loss: 0.3238 - val_accuracy: 0.8477\n",
            "Epoch 42/50\n",
            "38238/38238 [==============================] - 57s 1ms/step - loss: 0.3615 - accuracy: 0.8322 - val_loss: 0.2769 - val_accuracy: 0.8726\n",
            "Epoch 43/50\n",
            "38238/38238 [==============================] - 58s 2ms/step - loss: 0.3609 - accuracy: 0.8317 - val_loss: 0.3226 - val_accuracy: 0.8445\n",
            "Epoch 44/50\n",
            "38238/38238 [==============================] - 57s 1ms/step - loss: 0.3605 - accuracy: 0.8330 - val_loss: 0.3695 - val_accuracy: 0.8173\n",
            "Epoch 45/50\n",
            "38238/38238 [==============================] - 57s 1ms/step - loss: 0.3612 - accuracy: 0.8320 - val_loss: 0.3774 - val_accuracy: 0.8121\n",
            "Epoch 46/50\n",
            "38238/38238 [==============================] - 58s 2ms/step - loss: 0.3605 - accuracy: 0.8329 - val_loss: 0.3713 - val_accuracy: 0.8179\n",
            "Epoch 47/50\n",
            "38238/38238 [==============================] - 58s 2ms/step - loss: 0.3610 - accuracy: 0.8319 - val_loss: 0.3421 - val_accuracy: 0.8318\n",
            "Epoch 48/50\n",
            "38238/38238 [==============================] - 58s 2ms/step - loss: 0.3602 - accuracy: 0.8333 - val_loss: 0.2785 - val_accuracy: 0.8756\n",
            "Epoch 49/50\n",
            "38238/38238 [==============================] - 58s 2ms/step - loss: 0.3604 - accuracy: 0.8327 - val_loss: 0.4286 - val_accuracy: 0.7793\n",
            "Epoch 50/50\n",
            "38238/38238 [==============================] - 57s 2ms/step - loss: 0.3596 - accuracy: 0.8331 - val_loss: 0.4454 - val_accuracy: 0.7742\n"
          ],
          "name": "stdout"
        }
      ]
    },
    {
      "cell_type": "code",
      "metadata": {
        "id": "ssxPvS4aibjA"
      },
      "source": [
        "lr_auc = roc_auc_score(y_test, prediction)"
      ],
      "execution_count": null,
      "outputs": []
    },
    {
      "cell_type": "code",
      "metadata": {
        "colab": {
          "base_uri": "https://localhost:8080/"
        },
        "id": "sCmgk1JRibmj",
        "outputId": "62f2a7bf-b9ac-42c3-c55f-2081f03369de"
      },
      "source": [
        "lr_auc"
      ],
      "execution_count": null,
      "outputs": [
        {
          "output_type": "execute_result",
          "data": {
            "text/plain": [
              "0.737484328156097"
            ]
          },
          "metadata": {
            "tags": []
          },
          "execution_count": 15
        }
      ]
    },
    {
      "cell_type": "code",
      "metadata": {
        "colab": {
          "base_uri": "https://localhost:8080/",
          "height": 279
        },
        "id": "KL3tXaS3ibqM",
        "outputId": "f8c0d083-417a-4955-8354-864b719a6f16"
      },
      "source": [
        "# calculate roc curves\n",
        "fpr, tpr, thresholds = roc_curve(y_test, prediction)\n",
        "# plot the roc curve for the model\n",
        "pyplot.plot([0,1], [0,1], linestyle='--', label='No Skill')\n",
        "pyplot.plot(fpr, tpr, marker='.', label='Model')\n",
        "# axis labels\n",
        "pyplot.xlabel('False Positive Rate')\n",
        "pyplot.ylabel('True Positive Rate')\n",
        "pyplot.legend()\n",
        "# show the plot\n",
        "pyplot.show()"
      ],
      "execution_count": null,
      "outputs": [
        {
          "output_type": "display_data",
          "data": {
            "image/png": "[encoded data removed]",
            "text/plain": [
              "<Figure size 432x288 with 1 Axes>"
            ]
          },
          "metadata": {
            "tags": [],
            "needs_background": "light"
          }
        }
      ]
    },
    {
      "cell_type": "code",
      "metadata": {
        "colab": {
          "base_uri": "https://localhost:8080/"
        },
        "id": "mv351Xqdibt4",
        "outputId": "bfe0d67b-168a-40c3-b413-b28d1063ea7a"
      },
      "source": [
        "# calculate roc curves\n",
        "fpr, tpr, thresholds = roc_curve(y_test, prediction)\n",
        "# get the best threshold\n",
        "J = tpr - fpr\n",
        "ix = argmax(J)\n",
        "best_thresh = thresholds[ix]\n",
        "print('Best Threshold=%f' % (best_thresh))"
      ],
      "execution_count": null,
      "outputs": [
        {
          "output_type": "stream",
          "text": [
            "Best Threshold=0.445583\n"
          ],
          "name": "stdout"
        }
      ]
    },
    {
      "cell_type": "code",
      "metadata": {
        "id": "xzi_fDauibxM"
      },
      "source": [
        "ynn=(prediction>best_thresh).astype(int)"
      ],
      "execution_count": null,
      "outputs": []
    },
    {
      "cell_type": "code",
      "metadata": {
        "colab": {
          "base_uri": "https://localhost:8080/"
        },
        "id": "yU-MrJUwLym6",
        "outputId": "e53089bc-9148-4a36-f0d5-0680373812d8"
      },
      "source": [
        "print(classification_report(y_test, ynn))"
      ],
      "execution_count": null,
      "outputs": [
        {
          "output_type": "stream",
          "text": [
            "              precision    recall  f1-score   support\n",
            "\n",
            "           0       0.99      0.74      0.85    152909\n",
            "           1       0.04      0.60      0.07      2425\n",
            "\n",
            "    accuracy                           0.74    155334\n",
            "   macro avg       0.51      0.67      0.46    155334\n",
            "weighted avg       0.98      0.74      0.84    155334\n",
            "\n"
          ],
          "name": "stdout"
        }
      ]
    }
  ]
}